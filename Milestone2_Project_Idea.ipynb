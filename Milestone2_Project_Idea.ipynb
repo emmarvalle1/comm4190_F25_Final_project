{
 "cells": [
  {
   "cell_type": "markdown",
   "id": "b4d293b7-3145-400d-bdc5-2827cbad9bb7",
   "metadata": {},
   "source": [
    "**Milestone 2: Project idea**\n",
    "\n",
    "Have to decide what idea we want to do!\n",
    "\n",
    "Each person has to generate 2 usage scenarios. "
   ]
  }
 ],
 "metadata": {
  "kernelspec": {
   "display_name": "Python 3-12 (COMM4190)",
   "language": "python",
   "name": "python3-12_comm4190"
  },
  "language_info": {
   "codemirror_mode": {
    "name": "ipython",
    "version": 3
   },
   "file_extension": ".py",
   "mimetype": "text/x-python",
   "name": "python",
   "nbconvert_exporter": "python",
   "pygments_lexer": "ipython3",
   "version": "3.12.12"
  }
 },
 "nbformat": 4,
 "nbformat_minor": 5
}
