{
 "cells": [
  {
   "cell_type": "markdown",
   "id": "cf5fb96c-f085-4343-9bb3-912328be8b02",
   "metadata": {},
   "source": [
    "Francesca's project pitch: \n",
    "\n",
    "Most people give up on language learning because it feels like studying rules, not communicating ideas. Apps make you memorize vocabulary, but they don’t teach you how people actually speak — the tone, the slang, the rhythm of real conversation. Linguamind changes that.\n",
    "Powered by a large language model trained on diverse, multilingual dialogues, Linguamind learns from real-life sources — films, news articles, podcasts, and conversational transcripts — to teach users language the way it’s spoken, not the way it’s written in textbooks.\n",
    "The app engages users in adaptive, back-and-forth dialogue: it detects your fluency level, identifies weak points, and adjusts its tone and complexity in real time. It can switch from friendly casual chat to professional business settings, simulate different accents, and offer instant cultural insights — like why a phrase works in Paris but sounds odd in Quebec.\n",
    "Beyond conversation, Linguamind uses memory tracking to recall your past mistakes and progress, personalizes vocabulary based on your interests, and even generates short voice-based roleplays so you can practice natural listening and response.\n",
    "Linguamind isn’t about translation — it’s about transformation. It helps users think in another language by learning how people truly communicate, making fluency feel immersive, intuitive, and alive.\n"
   ]
  },
  {
   "cell_type": "code",
   "execution_count": null,
   "id": "b5bb1b94-ab34-4236-91e7-380ea5cce9a2",
   "metadata": {},
   "outputs": [],
   "source": [
    "`1"
   ]
  }
 ],
 "metadata": {
  "kernelspec": {
   "display_name": "Python 3-12 (COMM4190)",
   "language": "python",
   "name": "python3-12_comm4190"
  },
  "language_info": {
   "codemirror_mode": {
    "name": "ipython",
    "version": 3
   },
   "file_extension": ".py",
   "mimetype": "text/x-python",
   "name": "python",
   "nbconvert_exporter": "python",
   "pygments_lexer": "ipython3",
   "version": "3.12.12"
  }
 },
 "nbformat": 4,
 "nbformat_minor": 5
}
