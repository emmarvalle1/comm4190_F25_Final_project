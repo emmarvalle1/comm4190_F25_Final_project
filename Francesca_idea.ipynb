{
 "cells": [
  {
   "cell_type": "markdown",
   "id": "cf5fb96c-f085-4343-9bb3-912328be8b02",
   "metadata": {},
   "source": [
    "Francesca's project pitch: \n",
    "\n",
    "Most people quit language learning because it feels mechanical—memorizing words, repeating phrases, and never reaching real fluency. Linguamind changes that by using a large language model to teach through natural conversation and cultural context. It chats with you like a native speaker, explains idioms and tone, and adapts dynamically to your level, mood, and goals—whether you’re preparing for a trip or mastering business communication. It’s more than a tutor; it’s an intelligent conversation partner that helps you think in another language, not just translate it.\n"
   ]
  }
 ],
 "metadata": {
  "kernelspec": {
   "display_name": "Python 3-12 (COMM4190)",
   "language": "python",
   "name": "python3-12_comm4190"
  },
  "language_info": {
   "codemirror_mode": {
    "name": "ipython",
    "version": 3
   },
   "file_extension": ".py",
   "mimetype": "text/x-python",
   "name": "python",
   "nbconvert_exporter": "python",
   "pygments_lexer": "ipython3",
   "version": "3.12.12"
  }
 },
 "nbformat": 4,
 "nbformat_minor": 5
}
